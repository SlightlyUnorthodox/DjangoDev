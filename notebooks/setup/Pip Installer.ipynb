{
 "cells": [
  {
   "cell_type": "code",
   "execution_count": 2,
   "metadata": {
    "collapsed": false
   },
   "outputs": [
    {
     "name": "stdout",
     "output_type": "stream",
     "text": [
      "Downloading/unpacking unidecode\n",
      "Downloading/unpacking unidecode\n",
      "  Running setup.py (path:/tmp/pip_build_root/unidecode/setup.py) egg_info for package unidecode\n",
      "  Running setup.py (path:/tmp/pip_build_root/unidecode/setup.py) egg_info for package unidecode\n",
      "    /usr/local/lib/python2.7/dist-packages/setuptools/dist.py:331: UserWarning: Normalizing '0.04.19' to '0.4.19'\n",
      "    /usr/local/lib/python2.7/dist-packages/setuptools/dist.py:331: UserWarning: Normalizing '0.04.19' to '0.4.19'\n",
      "      normalized_version,\n",
      "      normalized_version,\n",
      "    \n",
      "    \n",
      "Installing collected packages: unidecode\n",
      "Installing collected packages: unidecode\n",
      "  Running setup.py install for unidecode\n",
      "  Running setup.py install for unidecode\n",
      "    /usr/local/lib/python2.7/dist-packages/setuptools/dist.py:331: UserWarning: Normalizing '0.04.19' to '0.4.19'\n",
      "    /usr/local/lib/python2.7/dist-packages/setuptools/dist.py:331: UserWarning: Normalizing '0.04.19' to '0.4.19'\n",
      "      normalized_version,\n",
      "      normalized_version,\n",
      "    \n",
      "    \n",
      "    Installing unidecode script to /usr/local/bin\n",
      "    Installing unidecode script to /usr/local/bin\n",
      "  Could not find .egg-info directory in install record for unidecode\n",
      "  Could not find .egg-info directory in install record for unidecode\n",
      "Successfully installed unidecode\n",
      "Successfully installed unidecode\n",
      "Cleaning up...\n",
      "Cleaning up...\n"
     ]
    }
   ],
   "source": [
    "# Import pip\n",
    "import pip\n",
    "\n",
    "# Define packages to install\n",
    "packages = ['unidecode']\n",
    "\n",
    "# Define install function\n",
    "def install(packages):\n",
    "    for package in packages:\n",
    "        pip.main(['install', package])\n",
    "        \n",
    "# Install packages\n",
    "install(packages)"
   ]
  }
 ],
 "metadata": {
  "kernelspec": {
   "display_name": "Python 2",
   "language": "python",
   "name": "python2"
  },
  "language_info": {
   "codemirror_mode": {
    "name": "ipython",
    "version": 2
   },
   "file_extension": ".py",
   "mimetype": "text/x-python",
   "name": "python",
   "nbconvert_exporter": "python",
   "pygments_lexer": "ipython2",
   "version": "2.7.6"
  }
 },
 "nbformat": 4,
 "nbformat_minor": 1
}
