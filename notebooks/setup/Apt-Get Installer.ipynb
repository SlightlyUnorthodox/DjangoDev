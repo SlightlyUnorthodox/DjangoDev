{
 "cells": [
  {
   "cell_type": "code",
   "execution_count": 3,
   "metadata": {
    "collapsed": false
   },
   "outputs": [
    {
     "name": "stderr",
     "output_type": "stream",
     "text": [
      "bash: line 4: syntax error near unexpected token `sudo'\n",
      "bash: line 4: `    sudo apt-get install $package'\n"
     ]
    }
   ],
   "source": [
    "%%bash\n",
    "# use bash-magic to install packages\n",
    "packages=(\"python-numpy\" \"python-nltk\" \"python-zmq\")\n",
    "for package in \"${packages[@]}\"\n",
    "    sudo apt-get install $package\n",
    "done"
   ]
  }
 ],
 "metadata": {
  "kernelspec": {
   "display_name": "Python 2",
   "language": "python",
   "name": "python2"
  },
  "language_info": {
   "codemirror_mode": {
    "name": "ipython",
    "version": 2
   },
   "file_extension": ".py",
   "mimetype": "text/x-python",
   "name": "python",
   "nbconvert_exporter": "python",
   "pygments_lexer": "ipython2",
   "version": "2.7.6"
  }
 },
 "nbformat": 4,
 "nbformat_minor": 1
}
