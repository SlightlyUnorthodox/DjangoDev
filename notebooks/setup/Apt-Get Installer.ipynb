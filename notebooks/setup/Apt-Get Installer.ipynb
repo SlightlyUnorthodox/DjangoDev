{
 "cells": [
  {
   "cell_type": "code",
   "execution_count": 2,
   "metadata": {
    "collapsed": false
   },
   "outputs": [
    {
     "name": "stdout",
     "output_type": "stream",
     "text": [
      "Reading package lists...\n",
      "Building dependency tree...\n",
      "Reading state information...\n",
      "python-numpy is already the newest version.\n",
      "0 upgraded, 0 newly installed, 0 to remove and 7 not upgraded.\n",
      "Reading package lists...\n",
      "Building dependency tree...\n",
      "Reading state information...\n",
      "python-nltk is already the newest version.\n",
      "0 upgraded, 0 newly installed, 0 to remove and 7 not upgraded.\n",
      "Reading package lists...\n",
      "Building dependency tree...\n",
      "Reading state information...\n",
      "python-zmq is already the newest version.\n",
      "0 upgraded, 0 newly installed, 0 to remove and 7 not upgraded.\n"
     ]
    }
   ],
   "source": [
    "%%bash\n",
    "# use bash-magic to install packages\n",
    "packages=(\"python-numpy\" \"python-nltk\" \"python-zmq\")\n",
    "for package in \"${packages[@]}\"; do\n",
    "    sudo apt-get install $package\n",
    "done"
   ]
  }
 ],
 "metadata": {
  "kernelspec": {
   "display_name": "Python 2",
   "language": "python",
   "name": "python2"
  },
  "language_info": {
   "codemirror_mode": {
    "name": "ipython",
    "version": 2
   },
   "file_extension": ".py",
   "mimetype": "text/x-python",
   "name": "python",
   "nbconvert_exporter": "python",
   "pygments_lexer": "ipython2",
   "version": "2.7.6"
  }
 },
 "nbformat": 4,
 "nbformat_minor": 1
}
