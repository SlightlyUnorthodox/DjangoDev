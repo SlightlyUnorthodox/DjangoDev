{
 "cells": [
  {
   "cell_type": "code",
   "execution_count": null,
   "metadata": {
    "collapsed": true
   },
   "outputs": [],
   "source": [
    "# Import required NLTK libraries (example from www.nltk.org/howto/grammar.html)\n",
    "from nltk import CFG, PCFG\n",
    "import random, re"
   ]
  },
  {
   "cell_type": "code",
   "execution_count": null,
   "metadata": {
    "collapsed": false
   },
   "outputs": [],
   "source": [
    "# Create a new grammar\n",
    "grammar = CFG.fromstring(\"\"\"\n",
    "S -> NP VP\n",
    "PP -> P NP\n",
    "NP -> Det N | NP PP\n",
    "VP -> V NP | VP PP\n",
    "Det -> 'a' | 'the'\n",
    "N -> 'dog' | 'cat'\n",
    "V -> 'chased' | 'sat'\n",
    "P -> 'on' | 'in'\n",
    "\"\"\")\n",
    "grammar"
   ]
  },
  {
   "cell_type": "code",
   "execution_count": null,
   "metadata": {
    "collapsed": false
   },
   "outputs": [],
   "source": [
    "# We can now view all of the possibilities of this grammar, the \"productions\"\n",
    "grammar.productions()"
   ]
  },
  {
   "cell_type": "code",
   "execution_count": null,
   "metadata": {
    "collapsed": false
   },
   "outputs": [],
   "source": [
    "# We can also define our grammar probabilisticly\n",
    "prob_grammar = PCFG.fromstring(\"\"\"\n",
    "S -> NP VP [1.0]\n",
    "NP -> Det N [0.5] | NP PP [0.25] | 'John' [0.1] | 'I' [0.15]\n",
    "Det -> 'the' [0.8] | 'my' [0.2]\n",
    "N -> 'man' [0.5] | 'telescope' [0.5]\n",
    "VP -> VP PP [0.1] | V NP [0.7] | V [0.2]\n",
    "V -> 'ate' [0.35] | 'saw' [0.65]\n",
    "PP -> P NP [1.0]\n",
    "P -> 'with' [0.61] | 'under' [0.39]\n",
    "\"\"\")\n",
    "prob_grammar"
   ]
  },
  {
   "cell_type": "code",
   "execution_count": null,
   "metadata": {
    "collapsed": false
   },
   "outputs": [],
   "source": [
    "# And again, we can view the probabilistic constructions\n",
    "prob_grammar.productions()"
   ]
  },
  {
   "cell_type": "code",
   "execution_count": null,
   "metadata": {
    "collapsed": false
   },
   "outputs": [],
   "source": [
    "# This type of model is useful for creating hidden markov models\n",
    "# For example, to anticipate what the next word is, given a noun (N) we could do the following.\n",
    "prob = 0.2\n",
    "curr_prob = 0\n",
    "POS = \"NP\"\n",
    "\n",
    "print(\"Our test probability is \" + str(prob))\n",
    "print(\"Our test POS is \" + POS)\n",
    "\n",
    "# If we want to use the production object we can use the following keys:\n",
    "#    _lhs, _rhs, _ProbabilisticMixIn__prob\n",
    "\n",
    "print(\"\\nPotential Matches:\")\n",
    "for production in prob_grammar.productions():\n",
    "    if (str(production._lhs) == POS and bool(re.search(\"\\'\", str(production._rhs)))):\n",
    "        curr_prob = curr_prob + production._ProbabilisticMixIn__prob\n",
    "        if (curr_prob >= prob):\n",
    "            print(\"Our next word is \" + str(production._rhs))\n",
    "            break\n",
    "   "
   ]
  }
 ],
 "metadata": {
  "kernelspec": {
   "display_name": "Python 2",
   "language": "python",
   "name": "python2"
  },
  "language_info": {
   "codemirror_mode": {
    "name": "ipython",
    "version": 2
   },
   "file_extension": ".py",
   "mimetype": "text/x-python",
   "name": "python",
   "nbconvert_exporter": "python",
   "pygments_lexer": "ipython2",
   "version": "2.7.6"
  }
 },
 "nbformat": 4,
 "nbformat_minor": 1
}
